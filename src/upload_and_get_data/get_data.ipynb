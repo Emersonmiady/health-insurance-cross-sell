{
 "cells": [
  {
   "cell_type": "code",
   "execution_count": 1,
   "metadata": {},
   "outputs": [
    {
     "name": "stdout",
     "output_type": "stream",
     "text": [
      "Pandas Version: 2.2.2\n",
      "SQLAlachemy Version: 2.0.30\n"
     ]
    }
   ],
   "source": [
    "import pandas as pd\n",
    "from sqlalchemy import create_engine, __version__\n",
    "print(\"Pandas Version:\", pd.__version__)\n",
    "print(\"SQLAlachemy Version:\", __version__)"
   ]
  },
  {
   "cell_type": "code",
   "execution_count": 2,
   "metadata": {},
   "outputs": [],
   "source": [
    "def get_data(creds, query):\n",
    "    \"\"\"\n",
    "    Connects to a PostgreSQL database using the given credentials and executes the given SQL query.\n",
    "\n",
    "    Args:\n",
    "        creds (dict): A dictionary containing the following keys:\n",
    "            - PG_DB (str): The name of the database.\n",
    "            - PG_USER (str): The username for the database.\n",
    "            - PG_HOST (str): The hostname of the database.\n",
    "            - PG_PSWD (str): The password for the database.\n",
    "        query (str): The SQL query to be executed.\n",
    "\n",
    "    Returns:\n",
    "        pandas.DataFrame: A DataFrame containing the results of the query.\n",
    "\n",
    "    Raises:\n",
    "        None\n",
    "\n",
    "    Notes:\n",
    "        This function uses the `sqlalchemy` library to connect to the database and execute the query.\n",
    "        The connection is closed after the query is executed.\n",
    "    \"\"\"\n",
    "    \n",
    "    # Connect to the database\n",
    "    string_con = f\"postgresql://{creds['PG_USER']}:{creds['PG_PSWD']}@{creds['PG_HOST']}/{creds['PG_DB']}\"\n",
    "    engine = create_engine(string_con)\n",
    "    conn = engine.connect()\n",
    "\n",
    "    # Get data\n",
    "    df = pd.read_sql(query, conn)\n",
    "\n",
    "    # Close connection\n",
    "    conn.close()\n",
    "    engine.dispose()\n",
    "\n",
    "    return df"
   ]
  },
  {
   "cell_type": "code",
   "execution_count": 3,
   "metadata": {},
   "outputs": [],
   "source": [
    "# Credentials\n",
    "creds = {\n",
    "    'PG_DB': 'pa004_5sdi',\n",
    "    'PG_USER': 'meigabots',\n",
    "    'PG_HOST': 'dpg-cpcf43rtg9os738cbgvg-a.oregon-postgres.render.com',\n",
    "    'PG_PSWD': 'jHtR4eEQNDPquJjosnuZQ76KS6d1lMOT'\n",
    "}"
   ]
  },
  {
   "cell_type": "code",
   "execution_count": 4,
   "metadata": {},
   "outputs": [],
   "source": [
    "# Query to get data\n",
    "query = '''\n",
    "    SELECT\n",
    "        d.\"ID\" AS id, \n",
    "        d.\"GENDER\" AS gender, \n",
    "        d.\"AGE\" AS age, \n",
    "        v.\"DRIVING_LICENSE\" AS driving_license, \n",
    "        d.\"REGION_CODE\" AS region_code, \n",
    "        v.\"PREVIOUSLY_INSURED\" AS previously_insured, \n",
    "        v.\"VEHICLE_AGE\" AS vehicle_age, \n",
    "        v.\"VEHICLE_DAMAGE\" AS vehicle_damage, \n",
    "        pr.\"ANNUAL_PREMIUM\" AS annual_premium, \n",
    "        pr.\"POLICY_SALES_CHANNEL\" AS policy_sales_channel, \n",
    "        pr.\"VINTAGE\" AS vintage, \n",
    "        pr.\"RESPONSE\" AS response\n",
    "    FROM public.demographics d\n",
    "    LEFT JOIN public.vehicle v ON (d.\"ID\" = v.\"ID\")\n",
    "    LEFT JOIN public.policy_and_response pr ON (d.\"ID\" = pr.\"ID\")\n",
    "'''"
   ]
  },
  {
   "cell_type": "code",
   "execution_count": 5,
   "metadata": {},
   "outputs": [],
   "source": [
    "# Import data\n",
    "df = get_data(creds, query)"
   ]
  },
  {
   "cell_type": "code",
   "execution_count": 6,
   "metadata": {},
   "outputs": [],
   "source": [
    "# Save data\n",
    "df.to_csv('../../data/raw/health_insurance_cross_sell.csv', index=False)"
   ]
  }
 ],
 "metadata": {
  "kernelspec": {
   "display_name": "Python 3",
   "language": "python",
   "name": "python3"
  },
  "language_info": {
   "codemirror_mode": {
    "name": "ipython",
    "version": 3
   },
   "file_extension": ".py",
   "mimetype": "text/x-python",
   "name": "python",
   "nbconvert_exporter": "python",
   "pygments_lexer": "ipython3",
   "version": "3.12.3"
  }
 },
 "nbformat": 4,
 "nbformat_minor": 2
}
