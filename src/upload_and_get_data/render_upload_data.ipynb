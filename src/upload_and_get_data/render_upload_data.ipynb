{
 "cells": [
  {
   "cell_type": "code",
   "execution_count": 5,
   "metadata": {},
   "outputs": [
    {
     "name": "stdout",
     "output_type": "stream",
     "text": [
      "Pandas Version: 2.2.2\n",
      "SQLAlachemy Version: 2.0.30\n"
     ]
    }
   ],
   "source": [
    "import pandas as pd\n",
    "from sqlalchemy import create_engine, __version__\n",
    "print(\"Pandas Version:\", pd.__version__)\n",
    "print(\"SQLAlachemy Version:\", __version__)"
   ]
  },
  {
   "cell_type": "code",
   "execution_count": 10,
   "metadata": {},
   "outputs": [],
   "source": [
    "creds = {\n",
    "'PG_DB': 'pa004_5sdi',\n",
    "'PG_USER': 'meigabots',\n",
    "'PG_HOST': 'dpg-cpcf43rtg9os738cbgvg-a.oregon-postgres.render.com',\n",
    "'PG_PSWD': 'jHtR4eEQNDPquJjosnuZQ76KS6d1lMOT'\n",
    "}"
   ]
  },
  {
   "cell_type": "code",
   "execution_count": 11,
   "metadata": {},
   "outputs": [],
   "source": [
    "string_con = f\"postgresql://{creds['PG_USER']}:{creds['PG_PSWD']}@{creds['PG_HOST']}/{creds['PG_DB']}\"\n",
    "engine = create_engine(string_con)\n",
    "con = engine.connect()\n",
    "\n",
    "# Para desconectar do banco\n",
    "# con.close()\n",
    "\n",
    "# Para matar a engine\n",
    "# engine.dispose()"
   ]
  },
  {
   "cell_type": "code",
   "execution_count": 13,
   "metadata": {},
   "outputs": [],
   "source": [
    "# Inserir o CSV dentro do Banco\n",
    "demographics = pd.read_csv(\"demographics.csv\").astype('object')\n",
    "policy_and_response = pd.read_csv(\"policy_and_response.csv\").astype('object')\n",
    "vehicle = pd.read_csv(\"vehicle.csv\").astype('object')"
   ]
  },
  {
   "cell_type": "code",
   "execution_count": 14,
   "metadata": {},
   "outputs": [],
   "source": [
    "# COlunas em uppercase\n",
    "demographics.columns = [k.upper() for k in demographics.columns]\n",
    "policy_and_response.columns = [k.upper() for k in policy_and_response.columns]\n",
    "vehicle.columns = [k.upper() for k in vehicle.columns]"
   ]
  },
  {
   "cell_type": "code",
   "execution_count": 15,
   "metadata": {},
   "outputs": [
    {
     "data": {
      "text/plain": [
       "146"
      ]
     },
     "execution_count": 15,
     "metadata": {},
     "output_type": "execute_result"
    }
   ],
   "source": [
    "# Enfiar dentro do banco em uma nova tabela\n",
    "# que vai ser automaticamente criada pelo pandas.\n",
    "demographics.to_sql('demographics', con=con, if_exists='replace', index=False)\n",
    "policy_and_response.to_sql('policy_and_response', con=con, if_exists='replace', index=False)\n",
    "vehicle.to_sql('vehicle', con=con, if_exists='replace', index=False)"
   ]
  },
  {
   "cell_type": "code",
   "execution_count": 17,
   "metadata": {},
   "outputs": [],
   "source": [
    "con.close()\n",
    "engine.dispose()"
   ]
  }
 ],
 "metadata": {
  "kernelspec": {
   "display_name": "Python 3",
   "language": "python",
   "name": "python3"
  },
  "language_info": {
   "codemirror_mode": {
    "name": "ipython",
    "version": 3
   },
   "file_extension": ".py",
   "mimetype": "text/x-python",
   "name": "python",
   "nbconvert_exporter": "python",
   "pygments_lexer": "ipython3",
   "version": "3.12.3"
  }
 },
 "nbformat": 4,
 "nbformat_minor": 2
}
