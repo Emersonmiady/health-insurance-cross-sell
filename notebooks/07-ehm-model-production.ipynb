{
 "cells": [
  {
   "cell_type": "markdown",
   "metadata": {},
   "source": [
    "# 1. IMPORTS\n",
    "---"
   ]
  },
  {
   "cell_type": "code",
   "execution_count": 60,
   "metadata": {},
   "outputs": [],
   "source": [
    "# Libraries\n",
    "import pandas as pd\n",
    "import pickle\n",
    "import requests\n",
    "from flask import request"
   ]
  },
  {
   "cell_type": "code",
   "execution_count": 61,
   "metadata": {},
   "outputs": [],
   "source": [
    "# Functions\n",
    "def transform_column(column, transformation_dict):\n",
    "    '''\n",
    "    Transforms a column using a dictionary of transformations\n",
    "    '''\n",
    "    return column.map(transformation_dict).values.reshape(-1, 1)"
   ]
  },
  {
   "cell_type": "code",
   "execution_count": 62,
   "metadata": {},
   "outputs": [],
   "source": [
    "# Data\n",
    "df = pd.read_csv('../data/raw/health_insurance_cross_sell.csv').sort_values('id')\n",
    "test_raw = df.sample(10)"
   ]
  },
  {
   "cell_type": "code",
   "execution_count": 63,
   "metadata": {},
   "outputs": [],
   "source": [
    "# Best model\n",
    "model = pickle.load(open('../src/model/best-model.pkl', 'rb'))"
   ]
  },
  {
   "cell_type": "markdown",
   "metadata": {},
   "source": [
    "# 2. CLASS FOR MODEL PRODUCTION\n",
    "---"
   ]
  },
  {
   "cell_type": "code",
   "execution_count": 64,
   "metadata": {},
   "outputs": [],
   "source": [
    "class HealthInsuranceCrossSell:\n",
    "    def __init__(self):\n",
    "        self.home_path = '../src/features/'\n",
    "        self.encoders = pickle.load(open(self.home_path + 'encoders.pkl', 'rb'))\n",
    "        self.scalers = pickle.load(open(self.home_path + 'scalers.pkl', 'rb'))\n",
    "        self.final_features = [\n",
    "            'age', 'gender', 'famous_region', 'vehicle_damage', 'vehicle_age',\n",
    "            'policy_sales_channel2_124','policy_sales_channel2_152', \n",
    "            'policy_sales_channel2_26'\n",
    "            ]\n",
    "        self.id = []\n",
    "    \n",
    "    def data_cleaning(self, df):\n",
    "        # Filter who doesn't have driving license\n",
    "        df = df[df['driving_license'] == 1].drop('driving_license', axis=1)\n",
    "\n",
    "        # Saving id\n",
    "        self.id = df['id'].values\n",
    "        \n",
    "        return df\n",
    "        \n",
    "    def feature_engineering(self, df):\n",
    "        # Famous region\n",
    "        df['famous_region'] = 0\n",
    "        df.loc[df['region_code'] == 28, 'famous_region'] = 1\n",
    "\n",
    "        # Policy sales channel 2\n",
    "        df['policy_sales_channel2'] = df['policy_sales_channel'].copy().astype('int64').astype(str)\n",
    "        df.loc[~df['policy_sales_channel'].isin([152, 26, 124]), 'policy_sales_channel2'] = 'others'\n",
    "\n",
    "        # Vehicle age 2\n",
    "        df['vehicle_age2'] = 0\n",
    "        df.loc[df['vehicle_age'].isin(['1-2 Year', '> 2 Years']), 'vehicle_age2'] = 1\n",
    "\n",
    "        # Famous policy sales channel\n",
    "        df['famous_policy_sales_channel'] = 0\n",
    "        df.loc[df['policy_sales_channel'].isin([152, 26, 124]), 'famous_policy_sales_channel'] = 1\n",
    "\n",
    "        # Health insurance customer profitability\n",
    "        df['hi_customer_profitability'] = df['annual_premium'].div(df['vintage']).fillna(0)\n",
    "        \n",
    "        return df\n",
    "\n",
    "    def data_preparation(self, df):\n",
    "        # Gender, vehicle damage, vehicle age and policy sales channel 2\n",
    "        df = self.encoders.transform(df)\n",
    "        df = pd.DataFrame(df, columns=self.encoders.get_feature_names_out())\n",
    "        \n",
    "        # Drop unnecessary features\n",
    "        scaler_vars = [\n",
    "            'id', 'age', 'vehicle_damage', 'annual_premium', 'vintage',\n",
    "            'famous_region', 'vehicle_age', 'vehicle_age2', \n",
    "            'hi_customer_profitability', 'famous_policy_sales_channel', \n",
    "            'policy_sales_channel2_124', 'policy_sales_channel2_152', \n",
    "            'policy_sales_channel2_26', 'gender', 'response'\n",
    "        ]\n",
    "\n",
    "        df = df[scaler_vars]\n",
    "\n",
    "        # Age\n",
    "        df = self.scalers.transform(df)\n",
    "        df = pd.DataFrame(df, columns=self.scalers.get_feature_names_out())\n",
    "\n",
    "        # Selecting features\n",
    "        df = df[self.final_features]\n",
    "        return df\n",
    "    \n",
    "    def get_prediction(self, model, original_data, test_data):\n",
    "        y_pred = model.predict(test_data)\n",
    "        y_predict_proba = model.predict_proba(test_data)[:, 1]\n",
    "\n",
    "        pred_df = pd.DataFrame(self.id, columns=['id'])\n",
    "        pred_df['prediction'] = y_pred\n",
    "        pred_df['probability'] = y_predict_proba\n",
    "\n",
    "        original_data = original_data.merge(pred_df, on='id', how='left')\n",
    "\n",
    "        # Driving license = 1 (data cleaning filter because of business question)\n",
    "        original_data['prediction'] = original_data['prediction'].fillna(1)\n",
    "        original_data['probability'] = original_data['probability'].fillna(0.9999)\n",
    "\n",
    "        return original_data.to_json(orient='records', date_format='iso')"
   ]
  },
  {
   "cell_type": "markdown",
   "metadata": {},
   "source": [
    "# 4. TEST CLASS\n",
    "---"
   ]
  },
  {
   "cell_type": "code",
   "execution_count": 52,
   "metadata": {},
   "outputs": [],
   "source": [
    "pipeline = HealthInsuranceCrossSell()\n",
    "\n",
    "df1 = pipeline.data_cleaning(test_raw)\n",
    "df2 = pipeline.feature_engineering(df1)\n",
    "df3 = pipeline.data_preparation(df2)\n",
    "df4 = pipeline.get_prediction(model, test_raw, df3)"
   ]
  },
  {
   "cell_type": "code",
   "execution_count": 66,
   "metadata": {},
   "outputs": [
    {
     "data": {
      "text/plain": [
       "'[{\"id\":152425,\"gender\":\"Female\",\"age\":36,\"driving_license\":1,\"region_code\":47.0,\"previously_insured\":1,\"vehicle_age\":\"1-2 Year\",\"vehicle_damage\":\"No\",\"annual_premium\":2630.0,\"policy_sales_channel\":152.0,\"vintage\":259,\"response\":0,\"prediction\":0,\"probability\":0.0206788218},{\"id\":112475,\"gender\":\"Female\",\"age\":40,\"driving_license\":1,\"region_code\":28.0,\"previously_insured\":0,\"vehicle_age\":\"1-2 Year\",\"vehicle_damage\":\"Yes\",\"annual_premium\":2630.0,\"policy_sales_channel\":55.0,\"vintage\":42,\"response\":0,\"prediction\":1,\"probability\":0.7560301672},{\"id\":465732,\"gender\":\"Male\",\"age\":46,\"driving_license\":1,\"region_code\":28.0,\"previously_insured\":1,\"vehicle_age\":\"1-2 Year\",\"vehicle_damage\":\"No\",\"annual_premium\":46922.0,\"policy_sales_channel\":26.0,\"vintage\":79,\"response\":0,\"prediction\":0,\"probability\":0.0594709355},{\"id\":196629,\"gender\":\"Female\",\"age\":34,\"driving_license\":1,\"region_code\":30.0,\"previously_insured\":1,\"vehicle_age\":\"1-2 Year\",\"vehicle_damage\":\"No\",\"annual_premium\":24900.0,\"policy_sales_channel\":140.0,\"vintage\":70,\"response\":0,\"prediction\":0,\"probability\":0.1551496943},{\"id\":39236,\"gender\":\"Female\",\"age\":44,\"driving_license\":1,\"region_code\":26.0,\"previously_insured\":0,\"vehicle_age\":\"1-2 Year\",\"vehicle_damage\":\"Yes\",\"annual_premium\":2630.0,\"policy_sales_channel\":26.0,\"vintage\":127,\"response\":0,\"prediction\":1,\"probability\":0.753640821},{\"id\":491659,\"gender\":\"Male\",\"age\":40,\"driving_license\":1,\"region_code\":8.0,\"previously_insured\":1,\"vehicle_age\":\"1-2 Year\",\"vehicle_damage\":\"Yes\",\"annual_premium\":35923.0,\"policy_sales_channel\":124.0,\"vintage\":113,\"response\":0,\"prediction\":1,\"probability\":0.7472544497},{\"id\":261322,\"gender\":\"Male\",\"age\":66,\"driving_license\":1,\"region_code\":28.0,\"previously_insured\":0,\"vehicle_age\":\"1-2 Year\",\"vehicle_damage\":\"Yes\",\"annual_premium\":33482.0,\"policy_sales_channel\":26.0,\"vintage\":175,\"response\":0,\"prediction\":1,\"probability\":0.6197173459},{\"id\":417340,\"gender\":\"Female\",\"age\":40,\"driving_license\":1,\"region_code\":24.0,\"previously_insured\":0,\"vehicle_age\":\"1-2 Year\",\"vehicle_damage\":\"Yes\",\"annual_premium\":28036.0,\"policy_sales_channel\":124.0,\"vintage\":166,\"response\":0,\"prediction\":1,\"probability\":0.7519916828},{\"id\":274361,\"gender\":\"Male\",\"age\":62,\"driving_license\":1,\"region_code\":14.0,\"previously_insured\":0,\"vehicle_age\":\"1-2 Year\",\"vehicle_damage\":\"Yes\",\"annual_premium\":2630.0,\"policy_sales_channel\":124.0,\"vintage\":88,\"response\":0,\"prediction\":1,\"probability\":0.5844641779},{\"id\":492527,\"gender\":\"Female\",\"age\":56,\"driving_license\":1,\"region_code\":18.0,\"previously_insured\":0,\"vehicle_age\":\"1-2 Year\",\"vehicle_damage\":\"Yes\",\"annual_premium\":2630.0,\"policy_sales_channel\":26.0,\"vintage\":27,\"response\":0,\"prediction\":1,\"probability\":0.6827662998}]'"
      ]
     },
     "execution_count": 66,
     "metadata": {},
     "output_type": "execute_result"
    }
   ],
   "source": [
    "df4"
   ]
  }
 ],
 "metadata": {
  "kernelspec": {
   "display_name": "hics",
   "language": "python",
   "name": "python3"
  },
  "language_info": {
   "codemirror_mode": {
    "name": "ipython",
    "version": 3
   },
   "file_extension": ".py",
   "mimetype": "text/x-python",
   "name": "python",
   "nbconvert_exporter": "python",
   "pygments_lexer": "ipython3",
   "version": "3.12.3"
  }
 },
 "nbformat": 4,
 "nbformat_minor": 2
}
